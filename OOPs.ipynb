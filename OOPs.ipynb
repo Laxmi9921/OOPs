{
  "nbformat": 4,
  "nbformat_minor": 0,
  "metadata": {
    "colab": {
      "provenance": []
    },
    "kernelspec": {
      "name": "python3",
      "display_name": "Python 3"
    },
    "language_info": {
      "name": "python"
    }
  },
  "cells": [
    {
      "cell_type": "markdown",
      "source": [
        "1.Create a parent class Animal with a method speak() that prints a generic message. Create a child class Dog that overrides the speak() method to print \"Bark!\".\n"
      ],
      "metadata": {
        "id": "Ywpe-fS9SinE"
      }
    },
    {
      "cell_type": "code",
      "source": [
        "class Animal:\n",
        "  def speak(self):\n",
        "     print(\"The animal makes a sound.\")\n",
        "\n",
        "class Dog(Animal):\n",
        "  def speak(self):\n",
        "     print(\"Bark\")\n",
        "\n",
        "generic_animal = Animal()\n",
        "generic_animal.speak()\n",
        "dog = Dog()\n",
        "dog.speak()\n",
        "print(\"Bark\")"
      ],
      "metadata": {
        "colab": {
          "base_uri": "https://localhost:8080/"
        },
        "id": "mol9AFc9Ta2y",
        "outputId": "2c179634-b8a4-40f9-e739-c4236a86f8a3"
      },
      "execution_count": 5,
      "outputs": [
        {
          "output_type": "stream",
          "name": "stdout",
          "text": [
            "The animal makes a sound.\n",
            "Bark\n",
            "Bark\n"
          ]
        }
      ]
    },
    {
      "cell_type": "markdown",
      "source": [
        "2.Write a program to create an abstract class shape with a method area(). Derive classes circle and Rectangle from it and implement the area() method in both."
      ],
      "metadata": {
        "id": "G4oupiYOdJau"
      }
    },
    {
      "cell_type": "code",
      "source": [
        " class Shape:\n",
        "  def area(self):\n",
        "    pass\n",
        "\n",
        "class Circle(Shape):\n",
        "    def __init__(self, radius):\n",
        "      self.radius = radius\n",
        "    def area(self):\n",
        "      return math.pi * self.radius ** 2\n",
        "\n",
        "class Reactangle(Shape):\n",
        "  def __init__(self, length, width):\n",
        "    self.length = length\n",
        "    self.width = width\n",
        "\n",
        "  def area(self):\n",
        "    return self.length * self.width"
      ],
      "metadata": {
        "id": "22GmNldCd0NZ"
      },
      "execution_count": 8,
      "outputs": []
    },
    {
      "cell_type": "markdown",
      "source": [
        "3.Implement a multi-level inheritance scenario where a class vehicle has an attribute type. Derive a class car and further derive a class ElectricCar that adds a battery attribute."
      ],
      "metadata": {
        "id": "sMqZ7vxcobd8"
      }
    },
    {
      "cell_type": "code",
      "source": [
        "class Vehicle:\n",
        "  def __init__(self, vehicle_type):\n",
        "      self.type = vehicle_type\n",
        "\n",
        "  def display_type(self):\n",
        "      print(f\"Vehicle Type:{self.type}\")\n",
        "\n",
        "class Car(Vehicle):\n",
        "    def __init__(self, vehicle_type, brand):\n",
        "       super().__init__(vehicle_type)\n",
        "       self.brand = brand\n",
        "\n",
        "    def display_brand(self):\n",
        "        print(f\"Car Brand:{self.brand}\")\n",
        "\n",
        "class ElectricCar(Car):\n",
        "    def __init__(self, vehicle_type, brand, battery_capacity):\n",
        "      super().__init__(vehicle_type, brand)\n",
        "      self.battery = battery_capacity\n",
        "\n",
        "    def display_battery(self):\n",
        "      print(f\"Battery Capacity:{self.battery} kwh\")"
      ],
      "metadata": {
        "id": "nq5zA3FUnrsk"
      },
      "execution_count": 21,
      "outputs": []
    },
    {
      "cell_type": "code",
      "source": [
        "ecar = ElectricCar(\"Four Wheeler\", \"Tesla\",85)\n",
        "\n",
        "ecar.display_brand()\n",
        "ecar.display_battery()"
      ],
      "metadata": {
        "colab": {
          "base_uri": "https://localhost:8080/"
        },
        "id": "OkoVIZbTrV4K",
        "outputId": "7e8e45e0-327e-49bc-c21e-c534d29e0157"
      },
      "execution_count": 25,
      "outputs": [
        {
          "output_type": "stream",
          "name": "stdout",
          "text": [
            "Car Brand:Tesla\n",
            "Battery Capacity:85 kwh\n"
          ]
        }
      ]
    },
    {
      "cell_type": "markdown",
      "source": [
        "4.Demonstrate polymorphism by creating a base class Bird with a method fly(). Create two derived classes Sparrow and penguin that override the fly() method."
      ],
      "metadata": {
        "id": "yqhyIjWgstq3"
      }
    },
    {
      "cell_type": "code",
      "source": [
        "class Bird:\n",
        "  def fly(self):\n",
        "    print(\"Some birds can fly.\")\n",
        "\n",
        "class Sparrow(Bird):\n",
        "  def fly(self):\n",
        "    print(\"Sparrow flies high in the sky.\")\n",
        "\n",
        "class Penguin(Bird):\n",
        "  def fly(self):\n",
        "    print(\"Penguins can't fly, but they swim well.\")"
      ],
      "metadata": {
        "id": "hX5g0ogkr0nl"
      },
      "execution_count": 43,
      "outputs": []
    },
    {
      "cell_type": "markdown",
      "source": [
        "5.Write a program to demonstrate encapsulation by creating a class BankAccount with private attributes balance and methods to deposit, withdraw, and check balance."
      ],
      "metadata": {
        "id": "Dj7fo_SMxrJI"
      }
    },
    {
      "cell_type": "code",
      "source": [
        "class BankAccount:\n",
        "   def __init__(self, initial_balance=0):\n",
        "    self._balance = initial_balance\n",
        "\n",
        "   def deposit(self, amount):\n",
        "      if amount > 0:\n",
        "         self,__balance + amount\n",
        "         print(f\"Deposited: $(amount)\")\n",
        "      else:\n",
        "         print(\"Deposit amount must be positive.\")\n",
        "\n",
        "   def withdraw(self, amount):\n",
        "       if 0 < amount <= self,__balance:\n",
        "          self,__balace - amount\n",
        "          print(f\"Withdrwn: ${amount}\")\n",
        "       else :\n",
        "           print(\"Insufficient balance or Invalid amount.\")\n",
        "\n",
        "   def check_balance(self):\n",
        "       print(f\"Current Balance: $ {self._balance}\")"
      ],
      "metadata": {
        "colab": {
          "base_uri": "https://localhost:8080/",
          "height": 106
        },
        "id": "iqeo2IMeuT4X",
        "outputId": "f27da4ad-50c1-4f72-be6a-0fe52754c679"
      },
      "execution_count": 59,
      "outputs": [
        {
          "output_type": "error",
          "ename": "SyntaxError",
          "evalue": "invalid syntax (<ipython-input-59-07e57c67b5ba>, line 13)",
          "traceback": [
            "\u001b[0;36m  File \u001b[0;32m\"<ipython-input-59-07e57c67b5ba>\"\u001b[0;36m, line \u001b[0;32m13\u001b[0m\n\u001b[0;31m    if 0 < amount <= self,__balance:\u001b[0m\n\u001b[0m                         ^\u001b[0m\n\u001b[0;31mSyntaxError\u001b[0m\u001b[0;31m:\u001b[0m invalid syntax\n"
          ]
        }
      ]
    },
    {
      "cell_type": "markdown",
      "source": [
        "6.Demonstrate runtime polymorphism using a method play() in a base class instrument. Derive classes Guitar and Piano that implement their own version of play()"
      ],
      "metadata": {
        "id": "b71Jiln70_ml"
      }
    },
    {
      "cell_type": "code",
      "source": [
        "class Instrument:\n",
        "  def paly(self):\n",
        "    print(\"Instrument is being played.\")\n",
        "\n",
        "class Guitar(Instrument):\n",
        "  def paly(self):\n",
        "    print(\"Strumming the guitar strings.\")\n",
        "\n",
        "class Piano(Instrument):\n",
        "  def play(self):\n",
        "    print(\"Playing the piano keys.\")\n",
        "\n",
        "  def start_performance(instrument):instrument.play()"
      ],
      "metadata": {
        "id": "s6Tj3kKNz2bb"
      },
      "execution_count": 66,
      "outputs": []
    },
    {
      "cell_type": "markdown",
      "source": [
        "7.Create a class MathOperations with a class method add_numbers() to add two numbers and a static method subtract_numbers() to subtract two numbers."
      ],
      "metadata": {
        "id": "N0rDcDJh2xmu"
      }
    },
    {
      "cell_type": "code",
      "source": [
        "class MathOperations:\n",
        "\n",
        "  @classmethod\n",
        "  def add_numbers(cls, a, b):\n",
        "    return a + b\n",
        "\n",
        "  @staticmethod\n",
        "  def substract_numbers(a, b):\n",
        "     return a - b\n",
        "\n",
        ""
      ],
      "metadata": {
        "id": "MZs_oCa009A2"
      },
      "execution_count": 76,
      "outputs": []
    },
    {
      "cell_type": "markdown",
      "source": [
        "8.Implement a class Person with a class method to count the total number of persons created."
      ],
      "metadata": {
        "id": "miSnjPGy4-qa"
      }
    },
    {
      "cell_type": "code",
      "source": [
        "class Person:\n",
        "  count = 0\n",
        "  def __init__(self, name):\n",
        "    self.name = name\n",
        "    Person.count += 1\n",
        "\n",
        "  @classmethod\n",
        "  def total_persons(cls):\n",
        "    return cls.count"
      ],
      "metadata": {
        "id": "7zqX6tO34Qfs"
      },
      "execution_count": 77,
      "outputs": []
    },
    {
      "cell_type": "markdown",
      "source": [
        "9.Write a class Fraction with attributes numerator and denominator. Override the str method to display the fraction as \"numerator/denominator\"."
      ],
      "metadata": {
        "id": "-wFiAZU458v5"
      }
    },
    {
      "cell_type": "code",
      "source": [
        "class Fraction:\n",
        "   def __init__(self, numerator, denominator):\n",
        "      self.numerator = numerator\n",
        "      self.denominator = denominator\n",
        "\n",
        "   def __str__(self):\n",
        "       return f\"{self.numerator}/ {self.denominator}\""
      ],
      "metadata": {
        "id": "cXKzwpQx57kp"
      },
      "execution_count": 78,
      "outputs": []
    },
    {
      "cell_type": "markdown",
      "source": [
        "10.Demonstrate operator overloading by creating a class Vector and overriding the add method to add two vectors."
      ],
      "metadata": {
        "id": "N05xxXhQ65VD"
      }
    },
    {
      "cell_type": "code",
      "source": [
        "class Vector:\n",
        "  def __init__(self, x, y):\n",
        "      self.x = x\n",
        "      self.y = y\n",
        "\n",
        "  def __add__(self, other):\n",
        "      return Vector(self.x + other.x, self.y + other.y)\n",
        "\n",
        "  def __str__(self):\n",
        "      return f\"Vector({self.x}, {self.y})\""
      ],
      "metadata": {
        "id": "TkKcr1DE64c8"
      },
      "execution_count": 79,
      "outputs": []
    },
    {
      "cell_type": "markdown",
      "source": [
        "11.Create a class Person with attributes name and age. Add a method greet() that prints \"Hello, my name is {name} and iam {age} years old.\""
      ],
      "metadata": {
        "id": "MwHbveyH7_28"
      }
    },
    {
      "cell_type": "code",
      "source": [
        "class Person:\n",
        "    def __init__(self, name, age):\n",
        "      self.name = name\n",
        "      self.age = age\n",
        "\n",
        "    def greet(self):\n",
        "      print(f\"Hello, my name is {self.name} and iam {self.age} year old\")"
      ],
      "metadata": {
        "id": "9hnBlEAg7-Jl"
      },
      "execution_count": 80,
      "outputs": []
    },
    {
      "cell_type": "code",
      "source": [
        "p1 = Person(\"Alice\", 25)\n",
        "p1.greet()"
      ],
      "metadata": {
        "colab": {
          "base_uri": "https://localhost:8080/"
        },
        "id": "GT5EDKwQ9QFV",
        "outputId": "9f8df19f-dd3b-4689-bfb1-60133d4535ac"
      },
      "execution_count": 81,
      "outputs": [
        {
          "output_type": "stream",
          "name": "stdout",
          "text": [
            "Hello, my name is Alice and iam 25 year old\n"
          ]
        }
      ]
    },
    {
      "cell_type": "markdown",
      "source": [
        "12.Implement a class student with attributes name and grades. Create a method avaerage_grade() to compute the average of the grades."
      ],
      "metadata": {
        "id": "fSRfWz1Y9dDe"
      }
    },
    {
      "cell_type": "code",
      "source": [
        "from shutil import register_unpack_format\n",
        "class Student:\n",
        "    def __init__(self, name, grades):\n",
        "       self.name = name\n",
        "       self.grades = grades\n",
        "\n",
        "    def average_grade(self):\n",
        "       if len(self.grades) == 0:\n",
        "         return sum(self.grades) / len(self.grades)"
      ],
      "metadata": {
        "id": "e_HLOmx39bKR"
      },
      "execution_count": 84,
      "outputs": []
    },
    {
      "cell_type": "markdown",
      "source": [
        "13.Create a class Rectangle with methods set_dimensions() to set the dimensions and area() to calculate the area."
      ],
      "metadata": {
        "id": "06AKX4o2BGLK"
      }
    },
    {
      "cell_type": "code",
      "source": [
        "class Rectangle:\n",
        "    def __init__(self):\n",
        "      self.length = 0\n",
        "      self.width = 0\n",
        "\n",
        "    def set_dimensions(self, length, width):\n",
        "      self.length = length\n",
        "      self.width = width\n",
        "\n",
        "    def area(self):\n",
        "      return self.length * self.width"
      ],
      "metadata": {
        "id": "9IQJPGcC_5rj"
      },
      "execution_count": 94,
      "outputs": []
    },
    {
      "cell_type": "code",
      "source": [
        "rect = Rectangle()\n",
        "rect.set_dimensions(5, 3)\n",
        "\n",
        "print(f\"Area of rectangle:{rect.area()}\")"
      ],
      "metadata": {
        "colab": {
          "base_uri": "https://localhost:8080/"
        },
        "id": "XY1qPm4MCM0C",
        "outputId": "7fee4f07-49e5-41b4-91e3-a64bada04957"
      },
      "execution_count": 96,
      "outputs": [
        {
          "output_type": "stream",
          "name": "stdout",
          "text": [
            "Area of rectangle:15\n"
          ]
        }
      ]
    },
    {
      "cell_type": "markdown",
      "source": [
        "14.Create a class Employee with a method calculate_salary() that computes the salary based on hours worked and hourly rate. Create a derived class Manager that adds a bonus to the salary."
      ],
      "metadata": {
        "id": "B5_4NsiFCeU-"
      }
    },
    {
      "cell_type": "code",
      "source": [
        "class Employee:\n",
        "   def __init__(self, name, jours_worked, hourly_rate):\n",
        "     self.name = name\n",
        "     self.hours_worked = hours_worked\n",
        "     self.hourly_rate = hourly_rate\n",
        "\n",
        "   def calculate_salary(self):\n",
        "    return self.hours_worked * self.hourly_rate\n",
        "\n",
        "class Manager(Employee):\n",
        "    def __init__(self, name, hours_worked, hourly_rate, bonus):\n",
        "      super(),__init__(name, hours_worked, hourly_rate)\n",
        "      self.bonus = bonus\n",
        "\n",
        "    def calculate_salary(self):\n",
        "      base_salary = super().calculate_salary()\n",
        "      return base_salary + self.bonus"
      ],
      "metadata": {
        "id": "2rw3r8ZWCTfo"
      },
      "execution_count": 104,
      "outputs": []
    },
    {
      "cell_type": "markdown",
      "source": [
        "15.Create a class Product with attributes names, price and quantity. Implement a method total_price() that calculates the total price of the product."
      ],
      "metadata": {
        "id": "KzuQol55FqJ6"
      }
    },
    {
      "cell_type": "code",
      "source": [
        "class Product:\n",
        "   def __init__(self, name, price, quantity):\n",
        "    self.name = name\n",
        "    self.price = price\n",
        "    self.quantity = quantity\n",
        "\n",
        "   def total_price(self):\n",
        "      return self.price * self.quantity"
      ],
      "metadata": {
        "id": "iThqrwnnFfmX"
      },
      "execution_count": 113,
      "outputs": []
    },
    {
      "cell_type": "markdown",
      "source": [
        "16.Create a class Animal with an abstract method sound().Create two derived classes Cow and sheep that implement the sound() method."
      ],
      "metadata": {
        "id": "XzxYHKk4GoPT"
      }
    },
    {
      "cell_type": "code",
      "source": [
        "from abc import abstractmethod\n",
        "class Animal:\n",
        "  @abstractmethod\n",
        "  def sound(self):\n",
        "    pass\n",
        "\n",
        "class Cow(Animal):\n",
        "  def sound(self):\n",
        "      return \"Moo\"\n",
        "\n",
        "class Sheep(Animal):\n",
        "  def sound(self):\n",
        "     return \"Baa\""
      ],
      "metadata": {
        "id": "KM63s4EIGeGx"
      },
      "execution_count": 114,
      "outputs": []
    },
    {
      "cell_type": "code",
      "source": [
        "cow = Cow()\n",
        "sheep = Sheep()\n",
        "\n",
        "print(f\"Cow says: {cow.sound()}\")\n",
        "print(f\"Sheep says: {sheep.sound()}\")"
      ],
      "metadata": {
        "colab": {
          "base_uri": "https://localhost:8080/"
        },
        "id": "OoIXdjM1Hp-6",
        "outputId": "8660ca45-e358-41c0-877d-cf05fe2f15d7"
      },
      "execution_count": 115,
      "outputs": [
        {
          "output_type": "stream",
          "name": "stdout",
          "text": [
            "Cow says: Moo\n",
            "Sheep says: Baa\n"
          ]
        }
      ]
    },
    {
      "cell_type": "markdown",
      "source": [
        "17.Create a class Book with attributes title, author, and year_published. Add a method get_book_info() that returns a formatted string with the book's details."
      ],
      "metadata": {
        "id": "BLP7Zqx9IABf"
      }
    },
    {
      "cell_type": "code",
      "source": [
        "class Book:\n",
        "  def __init__(self, title, author, year_published):\n",
        "    self.title = title\n",
        "    self.author = author\n",
        "    self.year_published = year_published\n",
        "\n",
        "  def get_book_info(self):\n",
        "     return f\"'{self.title}' by {self.author}, published in {self.year_published}.\""
      ],
      "metadata": {
        "id": "-d5OYHGNH8sV"
      },
      "execution_count": 116,
      "outputs": []
    },
    {
      "cell_type": "code",
      "source": [
        "book1 = Book(\"To Kill a Mockingbird\", \"Harper Lee\", 1960)\n",
        "\n",
        "print(book1.get_book_info())"
      ],
      "metadata": {
        "colab": {
          "base_uri": "https://localhost:8080/"
        },
        "id": "0tCBodn9JRmk",
        "outputId": "3b9b09b4-bd5a-4292-efe5-2c1c372ba566"
      },
      "execution_count": 117,
      "outputs": [
        {
          "output_type": "stream",
          "name": "stdout",
          "text": [
            "'To Kill a Mockingbird' by Harper Lee, published in 1960.\n"
          ]
        }
      ]
    },
    {
      "cell_type": "markdown",
      "source": [
        "18.Create a class House with attributes address and price. Create a derived class Mansion that adds an attributes number_of_rooms."
      ],
      "metadata": {
        "id": "SCKoS-FhJrqM"
      }
    },
    {
      "cell_type": "code",
      "source": [
        "class House:\n",
        "  def __init__(self, address, price):\n",
        "    self.address = address\n",
        "    self.price = price\n",
        "\n",
        "  def display_info(self):\n",
        "       return f\"Address: {self.address}, Price: ${self.price}\"\n",
        "\n",
        "class Mansion(House):\n",
        "    def __init__(self, address, price, number_of_rooms):\n",
        "      super(),__init__(address, price)\n",
        "      self.number_of_rooms = number_of_rooms\n",
        "\n",
        "    def display_info(self):\n",
        "       base_info = super().display_info()\n",
        "       return f\"(base_info), Rooms:{self.number_of_rooms}\""
      ],
      "metadata": {
        "id": "ZBHcavN4Joll"
      },
      "execution_count": 149,
      "outputs": []
    },
    {
      "cell_type": "code",
      "source": [],
      "metadata": {
        "id": "KeZDeCnLLUUF"
      },
      "execution_count": null,
      "outputs": []
    }
  ]
}